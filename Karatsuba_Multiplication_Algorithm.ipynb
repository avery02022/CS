{
  "nbformat": 4,
  "nbformat_minor": 5,
  "metadata": {
    "kernelspec": {
      "display_name": "Python 3",
      "language": "python",
      "name": "python3"
    },
    "language_info": {
      "codemirror_mode": {
        "name": "ipython",
        "version": 3
      },
      "file_extension": ".py",
      "mimetype": "text/x-python",
      "name": "python",
      "nbconvert_exporter": "python",
      "pygments_lexer": "ipython3",
      "version": "3.9.1"
    },
    "colab": {
      "provenance": [],
      "include_colab_link": true
    }
  },
  "cells": [
    {
      "cell_type": "markdown",
      "metadata": {
        "id": "view-in-github",
        "colab_type": "text"
      },
      "source": [
        "<a href=\"https://colab.research.google.com/github/avery02022/CS/blob/main/Karatsuba_Multiplication_Algorithm.ipynb\" target=\"_parent\"><img src=\"https://colab.research.google.com/assets/colab-badge.svg\" alt=\"Open In Colab\"/></a>"
      ]
    },
    {
      "cell_type": "code",
      "metadata": {
        "colab": {
          "base_uri": "https://localhost:8080/"
        },
        "id": "purple-flooring",
        "outputId": "29dd1774-dda8-43d7-d482-6f854a266db9"
      },
      "source": [
        "try:\n",
        "    %load_ext autotime\n",
        "except:\n",
        "    !pip install ipython-autotime\n",
        "    %load_ext autotime"
      ],
      "id": "purple-flooring",
      "execution_count": 1,
      "outputs": [
        {
          "output_type": "stream",
          "name": "stdout",
          "text": [
            "Collecting ipython-autotime\n",
            "  Downloading ipython_autotime-0.3.2-py2.py3-none-any.whl.metadata (1.4 kB)\n",
            "Requirement already satisfied: ipython in /usr/local/lib/python3.10/dist-packages (from ipython-autotime) (7.34.0)\n",
            "Requirement already satisfied: setuptools>=18.5 in /usr/local/lib/python3.10/dist-packages (from ipython->ipython-autotime) (71.0.4)\n",
            "Collecting jedi>=0.16 (from ipython->ipython-autotime)\n",
            "  Using cached jedi-0.19.1-py2.py3-none-any.whl.metadata (22 kB)\n",
            "Requirement already satisfied: decorator in /usr/local/lib/python3.10/dist-packages (from ipython->ipython-autotime) (4.4.2)\n",
            "Requirement already satisfied: pickleshare in /usr/local/lib/python3.10/dist-packages (from ipython->ipython-autotime) (0.7.5)\n",
            "Requirement already satisfied: traitlets>=4.2 in /usr/local/lib/python3.10/dist-packages (from ipython->ipython-autotime) (5.7.1)\n",
            "Requirement already satisfied: prompt-toolkit!=3.0.0,!=3.0.1,<3.1.0,>=2.0.0 in /usr/local/lib/python3.10/dist-packages (from ipython->ipython-autotime) (3.0.47)\n",
            "Requirement already satisfied: pygments in /usr/local/lib/python3.10/dist-packages (from ipython->ipython-autotime) (2.16.1)\n",
            "Requirement already satisfied: backcall in /usr/local/lib/python3.10/dist-packages (from ipython->ipython-autotime) (0.2.0)\n",
            "Requirement already satisfied: matplotlib-inline in /usr/local/lib/python3.10/dist-packages (from ipython->ipython-autotime) (0.1.7)\n",
            "Requirement already satisfied: pexpect>4.3 in /usr/local/lib/python3.10/dist-packages (from ipython->ipython-autotime) (4.9.0)\n",
            "Requirement already satisfied: parso<0.9.0,>=0.8.3 in /usr/local/lib/python3.10/dist-packages (from jedi>=0.16->ipython->ipython-autotime) (0.8.4)\n",
            "Requirement already satisfied: ptyprocess>=0.5 in /usr/local/lib/python3.10/dist-packages (from pexpect>4.3->ipython->ipython-autotime) (0.7.0)\n",
            "Requirement already satisfied: wcwidth in /usr/local/lib/python3.10/dist-packages (from prompt-toolkit!=3.0.0,!=3.0.1,<3.1.0,>=2.0.0->ipython->ipython-autotime) (0.2.13)\n",
            "Downloading ipython_autotime-0.3.2-py2.py3-none-any.whl (7.0 kB)\n",
            "Using cached jedi-0.19.1-py2.py3-none-any.whl (1.6 MB)\n",
            "Installing collected packages: jedi, ipython-autotime\n",
            "Successfully installed ipython-autotime-0.3.2 jedi-0.19.1\n",
            "time: 513 µs (started: 2024-08-06 03:34:29 +00:00)\n"
          ]
        }
      ]
    },
    {
      "cell_type": "markdown",
      "metadata": {
        "id": "functional-ethics"
      },
      "source": [
        "## Bitwise representation of numbers\n",
        "\n",
        "We will represent numbers in binary as a sequence of 1s and 0s.\n",
        "Recall  the basics of converting decimal numbers into binary and vice versa.\n",
        "\n",
        "### Example\n",
        "The number 5 in decimal is written as $101$ in binary:\n",
        "$5_{10} = 101_2 $\n",
        "\n",
        "\n",
        "| Decimal | Binary |\n",
        "|---|---|\n",
        "| 5 | 101 |\n",
        "| 12 | 1100 |\n",
        "| 16 | 10000 |\n",
        "| 23 | 10111 |\n",
        "\n",
        "We will represent binary numbers as a list but the least significant bit is the first element and most significant bit is the last element.\n",
        "Eg., the number $(1011)_2$ is written in a list as `[1, 1, 0, 1]`."
      ],
      "id": "functional-ethics"
    },
    {
      "cell_type": "code",
      "metadata": {
        "colab": {
          "base_uri": "https://localhost:8080/"
        },
        "id": "several-shuttle",
        "outputId": "65c289e5-05ce-452d-9f13-44198c6881e4"
      },
      "source": [
        "def convert_to_binary(n):\n",
        "    assert n >= 0\n",
        "    if n == 0:\n",
        "        return [0]\n",
        "    lst = []\n",
        "    while n > 0:\n",
        "        lst.append( n % 2)\n",
        "        n = n // 2 # Integer division in python uses //\n",
        "    return lst\n",
        "\n",
        "def convert_to_decimal(lst):\n",
        "    sum = 0\n",
        "    f = 1\n",
        "    for elt in lst:\n",
        "        sum = sum + elt * f\n",
        "        f = f * 2\n",
        "    return sum"
      ],
      "id": "several-shuttle",
      "execution_count": 2,
      "outputs": [
        {
          "output_type": "stream",
          "name": "stdout",
          "text": [
            "time: 981 µs (started: 2024-08-06 03:38:26 +00:00)\n"
          ]
        }
      ]
    },
    {
      "cell_type": "code",
      "metadata": {
        "colab": {
          "base_uri": "https://localhost:8080/"
        },
        "id": "naval-dutch",
        "outputId": "ee25dab0-66c3-4575-f47f-c95763500ff4"
      },
      "source": [
        "print(f'6 = {convert_to_binary(6)}')\n",
        "print(f'23 = {convert_to_binary(23)}')\n",
        "print(f'46 = {convert_to_binary(46)}')\n",
        "print(f'128 = {convert_to_binary(128)}')\n",
        "print(f'71 = {convert_to_binary(71)}')\n",
        "print(convert_to_decimal([1, 0, 1, 1, 0, 1])) # should be 45\n",
        "print(convert_to_decimal([0, 1, 1, 0, 1])) # should be 22"
      ],
      "id": "naval-dutch",
      "execution_count": 3,
      "outputs": [
        {
          "output_type": "stream",
          "name": "stdout",
          "text": [
            "6 = [0, 1, 1]\n",
            "23 = [1, 1, 1, 0, 1]\n",
            "46 = [0, 1, 1, 1, 0, 1]\n",
            "128 = [0, 0, 0, 0, 0, 0, 0, 1]\n",
            "71 = [1, 1, 1, 0, 0, 0, 1]\n",
            "45\n",
            "22\n",
            "time: 6.1 ms (started: 2024-08-06 03:38:31 +00:00)\n"
          ]
        }
      ]
    },
    {
      "cell_type": "markdown",
      "metadata": {
        "id": "copyrighted-variance"
      },
      "source": [
        "## Addition and Subtraction\n",
        "\n",
        "We will implement addition and subtraction for binary numbers.\n",
        "Addition was discussed in the lecture. For subtraction, we use a very nice trick called twos-complement method that turns subtraction into addition after flipping 1s and 0s.\n",
        "See here for a quick explanation:\n",
        "\n",
        "https://www.geeksforgeeks.org/subtraction-of-two-numbers-using-2s-complement/"
      ],
      "id": "copyrighted-variance"
    },
    {
      "cell_type": "code",
      "metadata": {
        "id": "curious-shakespeare"
      },
      "source": [
        "def bitwise_add(ai, bi, ci):\n",
        "    if ai == 0:\n",
        "        if bi == 0:\n",
        "            return (ci, 0)\n",
        "        else: # ai= 0, bi = 1\n",
        "            return (1-ci, ci)\n",
        "    else:\n",
        "        if bi == 0:\n",
        "            return (1-ci, ci)\n",
        "        else:\n",
        "            return (ci, 1)\n",
        "\n",
        "def add(a, b):\n",
        "    # add bit strings a, b\n",
        "    (n, m) = len(a), len(b)\n",
        "    carry = 0\n",
        "    c = []\n",
        "    for i in range(max(m,n)):\n",
        "        ai = a[i] if i < n else 0\n",
        "        bi = b[i] if i < m else 0\n",
        "        (ci, carry) = bitwise_add(ai, bi, carry)\n",
        "        c.append(ci)\n",
        "    if carry == 1:\n",
        "        c.append(carry)\n",
        "    return c\n",
        "\n",
        "def subtract(a, b):\n",
        "    # we will use two's complement subtraction\n",
        "    # this is a very nice and common trick where\n",
        "    # we can use addition to perform subraction of\n",
        "    # binary numbers. It is used inside computers.\n",
        "    # assume a >= b -- this will generally hold for all our use cases\n",
        "    n = len(a)\n",
        "    #assert(len(b) <= n)\n",
        "    k = len(a) - len(b)\n",
        "    bcomp = [1-elt for elt in b] + [1]*k # flip the bits in b and pad with 1s\n",
        "    bcomp2 = add(bcomp, [1]) # add 1\n",
        "    r = add(a, bcomp2)\n",
        "    return r[0:n]\n",
        "\n",
        "def pad(a, k):\n",
        "    return  [0]*k + a"
      ],
      "id": "curious-shakespeare",
      "execution_count": 10,
      "outputs": []
    },
    {
      "cell_type": "code",
      "source": [
        "print(subtract([1,1,1],[1])) # should be [0, 1, 1]\n",
        "print([1-elt for elt in [1]] + [1]*2)"
      ],
      "metadata": {
        "colab": {
          "base_uri": "https://localhost:8080/"
        },
        "id": "CZ6KjKKRccdk",
        "outputId": "90ba5440-3ac0-45ef-820f-6d04e18ec417"
      },
      "id": "CZ6KjKKRccdk",
      "execution_count": 28,
      "outputs": [
        {
          "output_type": "stream",
          "name": "stdout",
          "text": [
            "[0, 1, 1]\n",
            "[0, 1, 1]\n"
          ]
        }
      ]
    },
    {
      "cell_type": "code",
      "metadata": {
        "colab": {
          "base_uri": "https://localhost:8080/"
        },
        "id": "romantic-corporation",
        "outputId": "c97ae636-43b1-406a-ef27-4ac96d814cb5"
      },
      "source": [
        "print(add([1,0,1,1,0], [1, 0, 0, 0, 1])) # should be 0, 1, 1, 1, 1\n",
        "print(add([0, 1, 1], [1, 1, 1])) # should be 1, 0, 1, 1\n",
        "print(add([0, 1], [1, 1, 1])) # should be 1, 0, 0, 1\n",
        "print(add([0], [1,0,1,0,1,1,0,1])) # should be 1, 0, 1, 0, 1, 1, 0, 1"
      ],
      "id": "romantic-corporation",
      "execution_count": 17,
      "outputs": [
        {
          "output_type": "stream",
          "name": "stdout",
          "text": [
            "[0, 1, 1, 1, 1]\n",
            "[1, 0, 1, 1]\n",
            "[1, 0, 0, 1]\n",
            "[1, 0, 1, 0, 1, 1, 0, 1]\n"
          ]
        }
      ]
    },
    {
      "cell_type": "code",
      "metadata": {
        "id": "becoming-premises",
        "outputId": "b36dfef9-098a-46f4-d526-16b48f0e5faa",
        "colab": {
          "base_uri": "https://localhost:8080/"
        }
      },
      "source": [
        "print(subtract([1,1,1],[1])) # should be [0, 1, 1]\n",
        "print(subtract([1,0,1], [0, 1])) # should be [1, 1, 0]\n",
        "print(subtract([0, 0, 0, 1], [1, 1])) # should be [1, 0, 1, 0]\n",
        "print(subtract([0, 1, 0, 1], [1, 0, 0, 1])) # should be [1, 0, 0, 0]\n",
        "print(subtract([0, 1, 0, 1, 1, 1, 0, 1],[0]))"
      ],
      "id": "becoming-premises",
      "execution_count": 18,
      "outputs": [
        {
          "output_type": "stream",
          "name": "stdout",
          "text": [
            "[0, 1, 1]\n",
            "[1, 1, 0]\n",
            "[1, 0, 1, 0]\n",
            "[1, 0, 0, 0]\n",
            "[0, 1, 0, 1, 1, 1, 0, 1]\n"
          ]
        }
      ]
    },
    {
      "cell_type": "code",
      "metadata": {
        "id": "intended-wrong"
      },
      "source": [
        "def grade_school_multiply(a, b):\n",
        "    n, m = len(a), len(b)\n",
        "    tmp = a\n",
        "    res = [0]\n",
        "    for bit in b:\n",
        "        if bit == 1:\n",
        "            res = add(res, tmp)\n",
        "        tmp = [0]+tmp # shift tmp\n",
        "    return res"
      ],
      "id": "intended-wrong",
      "execution_count": 30,
      "outputs": []
    },
    {
      "cell_type": "code",
      "metadata": {
        "id": "resistant-romantic",
        "outputId": "71d7f63a-ddb6-495f-d044-8509a1f8da12",
        "colab": {
          "base_uri": "https://localhost:8080/"
        }
      },
      "source": [
        "print(grade_school_multiply([1, 0, 1], [0, 1])) #  should be 0, 1, 0, 1\n",
        "print(grade_school_multiply([0, 1, 1], [1, 1])) # should be 0, 1, 0, 0 , 1\n",
        "print(grade_school_multiply([0, 0, 1], [1, 0, 1])) # should be 0, 0, 1, 0 , 1\n",
        "print(grade_school_multiply([0, 0, 0, 1], [1, 0, 1])) # should be 0, 0, 0, 1, 0, 1"
      ],
      "id": "resistant-romantic",
      "execution_count": 31,
      "outputs": [
        {
          "output_type": "stream",
          "name": "stdout",
          "text": [
            "[0, 1, 0, 1]\n",
            "[0, 1, 0, 0, 1]\n",
            "[0, 0, 1, 0, 1]\n",
            "[0, 0, 0, 1, 0, 1]\n"
          ]
        }
      ]
    },
    {
      "cell_type": "code",
      "metadata": {
        "id": "occasional-nothing"
      },
      "source": [
        "def karatsuba_multiply(a, b):\n",
        "    (m, n) = len(a), len(b)\n",
        "    if m <= 2 or n <= 2:\n",
        "        # revert to grade school multiplication\n",
        "        return grade_school_multiply(a, b)\n",
        "    else:\n",
        "        mid1 = m//2\n",
        "        a1 = a[0:mid1]\n",
        "        a2 = a[mid1:]\n",
        "        b1 = b[0:mid1]\n",
        "        b2 = b[mid1:]\n",
        "        # [a] = 2^{mid1} * [a2] + [a1]\n",
        "        # [b] = 2^{mid1} * [b2] + [b1]\n",
        "        # [a]* [b] = 2^{2*mid1} ([a2]*[b2]) + 2^mid1 ([a2]*[b1] + [a2]*[b1]) + [a1]*[b1]\n",
        "\n",
        "        # 3 recursive calls to karatsuba_multiply\n",
        "        r1 = karatsuba_multiply(a1, b1)\n",
        "        r2 = karatsuba_multiply(a2, b2)\n",
        "        r3 = karatsuba_multiply(add(a1, a2), add(b1, b2))\n",
        "        # Do subtraction\n",
        "        r4a = subtract(r3, r1)\n",
        "        r4 = subtract(r4a, r2)\n",
        "\n",
        "        # Do paddding\n",
        "        s1 = pad(r2, 2*mid1)\n",
        "        s2 = pad(r4, mid1)\n",
        "        s3 = add(s1, s2)\n",
        "        return add(s3, r1)"
      ],
      "id": "occasional-nothing",
      "execution_count": 38,
      "outputs": []
    },
    {
      "cell_type": "code",
      "source": [
        "print(karatsuba_multiply([0, 0, 1, 1], [1, 1]))\n"
      ],
      "metadata": {
        "colab": {
          "base_uri": "https://localhost:8080/"
        },
        "id": "KMpLcsENja6L",
        "outputId": "8fc61a9b-d145-4ca5-f029-e424122cde0a"
      },
      "id": "KMpLcsENja6L",
      "execution_count": 62,
      "outputs": [
        {
          "output_type": "stream",
          "name": "stdout",
          "text": [
            "[0, 0, 1, 0, 0, 1]\n"
          ]
        }
      ]
    },
    {
      "cell_type": "code",
      "metadata": {
        "id": "stopped-evolution",
        "outputId": "fc475584-3abc-446b-8e39-6dbfe1981f51",
        "colab": {
          "base_uri": "https://localhost:8080/"
        }
      },
      "source": [
        "print(karatsuba_multiply([0, 0, 0, 1], [1, 0, 1])) # should be 0, 0, 0, 1, 0, 1\n",
        "print(karatsuba_multiply([0, 0, 1], [1, 0, 1])) # should be 0, 0, 1, 0 , 1"
      ],
      "id": "stopped-evolution",
      "execution_count": 33,
      "outputs": [
        {
          "output_type": "stream",
          "name": "stdout",
          "text": [
            "[0, 0, 0, 1, 0, 1]\n",
            "[0, 0, 1, 0, 1]\n"
          ]
        }
      ]
    },
    {
      "cell_type": "code",
      "metadata": {
        "id": "entertaining-contact",
        "outputId": "192b9ce7-fae6-4c06-aedf-e5de2c14a723",
        "colab": {
          "base_uri": "https://localhost:8080/"
        }
      },
      "source": [
        "print(grade_school_multiply([1, 0, 1, 1, 0, 1, 0, 1, 1, 0, 1, 1, 0, 1, 1, 1, 0, 1, 1, 0, 1, 1, 0], [0, 1, 0, 1, 1, 0, 1, 1, 0, 1, 0, 1, 0, 0, 0, 0, 1, 1, 1, 0, 1, 0,1]))"
      ],
      "id": "entertaining-contact",
      "execution_count": 34,
      "outputs": [
        {
          "output_type": "stream",
          "name": "stdout",
          "text": [
            "[0, 1, 0, 0, 1, 0, 1, 0, 1, 1, 1, 0, 0, 1, 0, 0, 0, 1, 0, 1, 1, 0, 1, 1, 1, 0, 0, 1, 1, 0, 0, 0, 1, 0, 1, 1, 0, 1, 0, 1, 0, 1, 0, 0, 1]\n"
          ]
        }
      ]
    },
    {
      "cell_type": "code",
      "metadata": {
        "id": "automatic-register",
        "outputId": "bba00513-2026-4c18-de42-ac47b388de82",
        "colab": {
          "base_uri": "https://localhost:8080/"
        }
      },
      "source": [
        "print(karatsuba_multiply([1, 0, 1, 1, 0, 1, 0, 1, 1, 0, 1, 1, 0, 1, 1, 1, 0, 1, 1, 0, 1, 1, 0], [0, 1, 0, 1, 1, 0, 1, 1, 0, 1, 0, 1, 0, 0, 0, 0, 1, 1, 1, 0, 1, 0,1]))"
      ],
      "id": "automatic-register",
      "execution_count": 35,
      "outputs": [
        {
          "output_type": "stream",
          "name": "stdout",
          "text": [
            "[0, 1, 0, 0, 1, 0, 1, 0, 1, 1, 1, 0, 0, 1, 0, 0, 0, 1, 0, 1, 1, 0, 1, 1, 1, 0, 0, 1, 1, 0, 0, 0, 1, 0, 1, 1, 0, 1, 0, 1, 0, 1, 0, 0, 1]\n"
          ]
        }
      ]
    },
    {
      "cell_type": "code",
      "metadata": {
        "id": "several-unemployment"
      },
      "source": [
        "from random import randint\n",
        "a = [randint(0, 1) for j in range(10000)]\n",
        "b = [randint(0, 1) for j in range(10000)]\n"
      ],
      "id": "several-unemployment",
      "execution_count": 36,
      "outputs": []
    },
    {
      "cell_type": "code",
      "metadata": {
        "id": "conservative-being"
      },
      "source": [
        "c = grade_school_multiply(a,b)"
      ],
      "id": "conservative-being",
      "execution_count": 37,
      "outputs": []
    },
    {
      "cell_type": "code",
      "metadata": {
        "id": "macro-alexandria",
        "outputId": "3d554474-d5e9-4855-ed81-7099e50ea050"
      },
      "source": [
        "c = karatsuba_multiply(a, b)"
      ],
      "id": "macro-alexandria",
      "execution_count": null,
      "outputs": [
        {
          "output_type": "stream",
          "text": [
            "time: 23.1 s (started: 2021-05-13 22:16:26 -06:00)\n"
          ],
          "name": "stdout"
        }
      ]
    }
  ]
}